{
  "nbformat": 4,
  "nbformat_minor": 0,
  "metadata": {
    "colab": {
      "name": "DLDay7_bbc_archive.ipynb",
      "provenance": []
    },
    "kernelspec": {
      "name": "python3",
      "display_name": "Python 3"
    }
  },
  "cells": [
    {
      "cell_type": "code",
      "metadata": {
        "id": "fAuwJ1hORo2H",
        "outputId": "7c386920-ffa5-410d-ed6a-49772704973f",
        "colab": {
          "base_uri": "https://localhost:8080/",
          "height": 202
        }
      },
      "source": [
        "!wget --no-check-certificate \\\n",
        "    https://storage.googleapis.com/laurencemoroney-blog.appspot.com/bbc-text.csv \\\n",
        "    -O /tmp/bbc-text.csv"
      ],
      "execution_count": 2,
      "outputs": [
        {
          "output_type": "stream",
          "text": [
            "--2020-09-29 14:49:56--  https://storage.googleapis.com/laurencemoroney-blog.appspot.com/bbc-text.csv\n",
            "Resolving storage.googleapis.com (storage.googleapis.com)... 64.233.188.128, 64.233.189.128, 108.177.97.128, ...\n",
            "Connecting to storage.googleapis.com (storage.googleapis.com)|64.233.188.128|:443... connected.\n",
            "HTTP request sent, awaiting response... 200 OK\n",
            "Length: 5057493 (4.8M) [application/octet-stream]\n",
            "Saving to: ‘/tmp/bbc-text.csv’\n",
            "\n",
            "\r/tmp/bbc-text.csv     0%[                    ]       0  --.-KB/s               \r/tmp/bbc-text.csv   100%[===================>]   4.82M  --.-KB/s    in 0.04s   \n",
            "\n",
            "2020-09-29 14:49:56 (112 MB/s) - ‘/tmp/bbc-text.csv’ saved [5057493/5057493]\n",
            "\n"
          ],
          "name": "stdout"
        }
      ]
    },
    {
      "cell_type": "code",
      "metadata": {
        "id": "Kzpz0VQUSIr-",
        "outputId": "12c9718f-fa39-4e28-be3d-b7d60d43f3c2",
        "colab": {
          "base_uri": "https://localhost:8080/",
          "height": 1000
        }
      },
      "source": [
        "import csv\n",
        "\n",
        "sentences = []\n",
        "labels = []\n",
        "stopwords = [ \"a\", \"about\", \"above\", \"after\", \"again\", \"against\", \"all\", \"am\", \"an\", \"and\", \"any\", \"are\", \"as\", \"at\", \"be\", \"because\", \"been\", \"before\", \"being\", \"below\", \"between\", \"both\", \"but\", \"by\", \"could\", \"did\", \"do\", \"does\", \"doing\", \"down\", \"during\", \"each\", \"few\", \"for\", \"from\", \"further\", \"had\", \"has\", \"have\", \"having\", \"he\", \"he'd\", \"he'll\", \"he's\", \"her\", \"here\", \"here's\", \"hers\", \"herself\", \"him\", \"himself\", \"his\", \"how\", \"how's\", \"i\", \"i'd\", \"i'll\", \"i'm\", \"i've\", \"if\", \"in\", \"into\", \"is\", \"it\", \"it's\", \"its\", \"itself\", \"let's\", \"me\", \"more\", \"most\", \"my\", \"myself\", \"nor\", \"of\", \"on\", \"once\", \"only\", \"or\", \"other\", \"ought\", \"our\", \"ours\", \"ourselves\", \"out\", \"over\", \"own\", \"same\", \"she\", \"she'd\", \"she'll\", \"she's\", \"should\", \"so\", \"some\", \"such\", \"than\", \"that\", \"that's\", \"the\", \"their\", \"theirs\", \"them\", \"themselves\", \"then\", \"there\", \"there's\", \"these\", \"they\", \"they'd\", \"they'll\", \"they're\", \"they've\", \"this\", \"those\", \"through\", \"to\", \"too\", \"under\", \"until\", \"up\", \"very\", \"was\", \"we\", \"we'd\", \"we'll\", \"we're\", \"we've\", \"were\", \"what\", \"what's\", \"when\", \"when's\", \"where\", \"where's\", \"which\", \"while\", \"who\", \"who's\", \"whom\", \"why\", \"why's\", \"with\", \"would\", \"you\", \"you'd\", \"you'll\", \"you're\", \"you've\", \"your\", \"yours\", \"yourself\", \"yourselves\" ]\n",
        "print(\"Total number of stopwords : \", len(stopwords))\n",
        "\n",
        "with open(\"/tmp/bbc-text.csv\", 'r') as csvfile:\n",
        "  reader = csv.reader(csvfile, delimiter=',')\n",
        "  next(reader)\n",
        "  for row in reader:\n",
        "    labels.append(row[0])\n",
        "    sentence = row[1]\n",
        "    for word in stopwords:\n",
        "      token = \" \" + word + \" \" \n",
        "      sentence = sentence.replace(token, \" \")\n",
        "    sentences.append(sentence)\n",
        "print(\"Total number of sentences and labels : \", len(sentences))\n",
        "\n",
        "\n",
        "\n",
        "split = .8\n",
        "train_size = int(len(sentences) * split)\n",
        "\n",
        "train_sentences = sentences[:train_size]\n",
        "train_labels = labels[:train_size]\n",
        "\n",
        "validation_sentences = sentences[train_size:]\n",
        "validation_labels = labels[train_size:]\n",
        "\n",
        "print(\"Training sentences   : \", len(train_sentences))\n",
        "print(\"Training labels      : \", len(train_labels))\n",
        "print(\"Validation sentences : \", len(validation_sentences))\n",
        "print(\"Validation labels    : \", len(validation_labels))\n",
        "\n",
        "#Hyperparameters\n",
        "vocab_size = 1000\n",
        "embedding_dim = 16\n",
        "oov_tok = \"<OOV>\"\n",
        "max_length = 120\n",
        "padding_type = \"post\"\n",
        "trunc_type = \"post\"\n",
        "\n",
        "import tensorflow as tf\n",
        "import numpy as np\n",
        "from tensorflow.keras.preprocessing.text import Tokenizer\n",
        "from tensorflow.keras.preprocessing.sequence import pad_sequences\n",
        "\n",
        "# Sentence tokenizer\n",
        "tokenizer = Tokenizer(num_words=vocab_size, oov_token=oov_tok)\n",
        "tokenizer.fit_on_texts(train_sentences)\n",
        "word_index = tokenizer.word_index\n",
        "\n",
        "train_sequences = tokenizer.texts_to_sequences(train_sentences)\n",
        "train_padded = pad_sequences(train_sequences, padding=padding_type, maxlen=max_length)\n",
        "\n",
        "validation_sequences = tokenizer.texts_to_sequences(validation_sentences)\n",
        "validation_padded = pad_sequences(validation_sequences, maxlen=max_length, padding=padding_type)\n",
        "\n",
        "print(\"Shape of train sequences      : \", train_padded.shape)\n",
        "print(\"Shape of validation sequences : \", validation_padded.shape)\n",
        "print(\"Example of sequence : \", train_padded[0])\n",
        "\n",
        "# Label Tokenizer\n",
        "label_tokenizer = Tokenizer()\n",
        "label_tokenizer.fit_on_texts(labels)\n",
        "label_word_index = label_tokenizer.word_index\n",
        "\n",
        "train_label_sequences = np.array(label_tokenizer.texts_to_sequences(train_labels))\n",
        "validation_label_sequences = np.array(label_tokenizer.texts_to_sequences(validation_labels))\n",
        "\n",
        "print(\"Shape of train labels      : \", train_label_sequences.shape)\n",
        "print(\"Shape of validation labels : \", validation_label_sequences.shape)\n",
        "print(\"The labels are : \", label_word_index)\n",
        "\n",
        "# Model\n",
        "model = tf.keras.Sequential([\n",
        "                             tf.keras.layers.Embedding(vocab_size, embedding_dim, input_length=max_length),\n",
        "                             tf.keras.layers.GlobalAveragePooling1D(),\n",
        "                             tf.keras.layers.Dense(24, activation=\"relu\"),\n",
        "                             tf.keras.layers.Dense(6, activation=\"softmax\")\n",
        "])\n",
        "\n",
        "model.summary()\n",
        "model.compile(loss=\"sparse_categorical_crossentropy\",optimizer=\"adam\",metrics=[\"accuracy\"])\n",
        "num_epochs = 30\n",
        "history = model.fit(train_padded, train_label_sequences,\n",
        "                    epochs=num_epochs,\n",
        "                    validation_data=(validation_padded, validation_label_sequences))\n",
        "\n",
        "import matplotlib.pyplot as plt\n",
        "%matplotlib inline\n",
        "\n",
        "def plot_graphs(history, string):\n",
        "    plt.plot(history.history[string])\n",
        "    plt.plot(history.history[\"val_\"+string])\n",
        "    plt.xlabel(\"Epochs\")\n",
        "    plt.ylabel(string)\n",
        "    plt.legend([string, 'val_'+string])\n",
        "    plt.show()\n",
        "\n",
        "plot_graphs(history, \"accuracy\")\n",
        "plot_graphs(history, \"loss\")\n"
      ],
      "execution_count": 24,
      "outputs": [
        {
          "output_type": "stream",
          "text": [
            "Total number of stopwords :  153\n",
            "Total number of sentences and labels :  2225\n",
            "Training sentences   :  1780\n",
            "Training labels      :  1780\n",
            "Validation sentences :  445\n",
            "Validation labels    :  445\n",
            "Shape of train sequences      :  (1780, 120)\n",
            "Shape of validation sequences :  (445, 120)\n",
            "Example of sequence :  [454 466   3   6   1   1 465   4   1  49  85 442  37  10   1 935   1   1\n",
            "  36   1  99   1 893  97   1  99   1   1  36  10   1   1   1   1   1   1\n",
            " 671   1   1   1 587   1   1  12 894 671  65   1   2   1   1   1  99   1\n",
            " 948   1   1 593   1  12  11   2 248   1  99 144   1 103 671   1   1  65\n",
            " 534 688   1   1   1   1 497   1  45  13   1   1  99   1 688 282 126 252\n",
            "   1 367 658  65   1 773   1   1 156   1 413   9  13  79   1   1 783 924\n",
            " 128 599   1   1   1   1   1   9  13 907  85  85]\n",
            "Shape of train labels      :  (1780, 1)\n",
            "Shape of validation labels :  (445, 1)\n",
            "The labels are :  {'sport': 1, 'business': 2, 'politics': 3, 'tech': 4, 'entertainment': 5}\n",
            "Model: \"sequential_2\"\n",
            "_________________________________________________________________\n",
            "Layer (type)                 Output Shape              Param #   \n",
            "=================================================================\n",
            "embedding_2 (Embedding)      (None, 120, 16)           16000     \n",
            "_________________________________________________________________\n",
            "global_average_pooling1d_2 ( (None, 16)                0         \n",
            "_________________________________________________________________\n",
            "dense_4 (Dense)              (None, 24)                408       \n",
            "_________________________________________________________________\n",
            "dense_5 (Dense)              (None, 6)                 150       \n",
            "=================================================================\n",
            "Total params: 16,558\n",
            "Trainable params: 16,558\n",
            "Non-trainable params: 0\n",
            "_________________________________________________________________\n",
            "Epoch 1/30\n",
            "56/56 [==============================] - 0s 4ms/step - loss: 1.7642 - accuracy: 0.2303 - val_loss: 1.7257 - val_accuracy: 0.2270\n",
            "Epoch 2/30\n",
            "56/56 [==============================] - 0s 2ms/step - loss: 1.6742 - accuracy: 0.2303 - val_loss: 1.6198 - val_accuracy: 0.2292\n",
            "Epoch 3/30\n",
            "56/56 [==============================] - 0s 2ms/step - loss: 1.5541 - accuracy: 0.3169 - val_loss: 1.4960 - val_accuracy: 0.4157\n",
            "Epoch 4/30\n",
            "56/56 [==============================] - 0s 2ms/step - loss: 1.4011 - accuracy: 0.4910 - val_loss: 1.3275 - val_accuracy: 0.5618\n",
            "Epoch 5/30\n",
            "56/56 [==============================] - 0s 2ms/step - loss: 1.2013 - accuracy: 0.6916 - val_loss: 1.1299 - val_accuracy: 0.6539\n",
            "Epoch 6/30\n",
            "56/56 [==============================] - 0s 2ms/step - loss: 0.9922 - accuracy: 0.7966 - val_loss: 0.9471 - val_accuracy: 0.7910\n",
            "Epoch 7/30\n",
            "56/56 [==============================] - 0s 2ms/step - loss: 0.8089 - accuracy: 0.8713 - val_loss: 0.7878 - val_accuracy: 0.8449\n",
            "Epoch 8/30\n",
            "56/56 [==============================] - 0s 2ms/step - loss: 0.6644 - accuracy: 0.8978 - val_loss: 0.6677 - val_accuracy: 0.8764\n",
            "Epoch 9/30\n",
            "56/56 [==============================] - 0s 2ms/step - loss: 0.5434 - accuracy: 0.9208 - val_loss: 0.5665 - val_accuracy: 0.8854\n",
            "Epoch 10/30\n",
            "56/56 [==============================] - 0s 2ms/step - loss: 0.4463 - accuracy: 0.9348 - val_loss: 0.4873 - val_accuracy: 0.8854\n",
            "Epoch 11/30\n",
            "56/56 [==============================] - 0s 2ms/step - loss: 0.3700 - accuracy: 0.9438 - val_loss: 0.4256 - val_accuracy: 0.8899\n",
            "Epoch 12/30\n",
            "56/56 [==============================] - 0s 2ms/step - loss: 0.3102 - accuracy: 0.9517 - val_loss: 0.3772 - val_accuracy: 0.9034\n",
            "Epoch 13/30\n",
            "56/56 [==============================] - 0s 2ms/step - loss: 0.2633 - accuracy: 0.9596 - val_loss: 0.3412 - val_accuracy: 0.9079\n",
            "Epoch 14/30\n",
            "56/56 [==============================] - 0s 2ms/step - loss: 0.2264 - accuracy: 0.9618 - val_loss: 0.3151 - val_accuracy: 0.9101\n",
            "Epoch 15/30\n",
            "56/56 [==============================] - 0s 2ms/step - loss: 0.1957 - accuracy: 0.9635 - val_loss: 0.2906 - val_accuracy: 0.9191\n",
            "Epoch 16/30\n",
            "56/56 [==============================] - 0s 2ms/step - loss: 0.1726 - accuracy: 0.9713 - val_loss: 0.2745 - val_accuracy: 0.9191\n",
            "Epoch 17/30\n",
            "56/56 [==============================] - 0s 2ms/step - loss: 0.1525 - accuracy: 0.9747 - val_loss: 0.2588 - val_accuracy: 0.9236\n",
            "Epoch 18/30\n",
            "56/56 [==============================] - 0s 2ms/step - loss: 0.1354 - accuracy: 0.9803 - val_loss: 0.2492 - val_accuracy: 0.9213\n",
            "Epoch 19/30\n",
            "56/56 [==============================] - 0s 2ms/step - loss: 0.1206 - accuracy: 0.9837 - val_loss: 0.2415 - val_accuracy: 0.9213\n",
            "Epoch 20/30\n",
            "56/56 [==============================] - 0s 2ms/step - loss: 0.1085 - accuracy: 0.9865 - val_loss: 0.2312 - val_accuracy: 0.9281\n",
            "Epoch 21/30\n",
            "56/56 [==============================] - 0s 2ms/step - loss: 0.0973 - accuracy: 0.9871 - val_loss: 0.2253 - val_accuracy: 0.9258\n",
            "Epoch 22/30\n",
            "56/56 [==============================] - 0s 2ms/step - loss: 0.0883 - accuracy: 0.9882 - val_loss: 0.2178 - val_accuracy: 0.9281\n",
            "Epoch 23/30\n",
            "56/56 [==============================] - 0s 2ms/step - loss: 0.0795 - accuracy: 0.9910 - val_loss: 0.2139 - val_accuracy: 0.9281\n",
            "Epoch 24/30\n",
            "56/56 [==============================] - 0s 2ms/step - loss: 0.0721 - accuracy: 0.9927 - val_loss: 0.2103 - val_accuracy: 0.9303\n",
            "Epoch 25/30\n",
            "56/56 [==============================] - 0s 2ms/step - loss: 0.0655 - accuracy: 0.9944 - val_loss: 0.2069 - val_accuracy: 0.9281\n",
            "Epoch 26/30\n",
            "56/56 [==============================] - 0s 2ms/step - loss: 0.0598 - accuracy: 0.9955 - val_loss: 0.2041 - val_accuracy: 0.9303\n",
            "Epoch 27/30\n",
            "56/56 [==============================] - 0s 2ms/step - loss: 0.0543 - accuracy: 0.9972 - val_loss: 0.2032 - val_accuracy: 0.9326\n",
            "Epoch 28/30\n",
            "56/56 [==============================] - 0s 2ms/step - loss: 0.0497 - accuracy: 0.9978 - val_loss: 0.1994 - val_accuracy: 0.9326\n",
            "Epoch 29/30\n",
            "56/56 [==============================] - 0s 2ms/step - loss: 0.0455 - accuracy: 0.9966 - val_loss: 0.2008 - val_accuracy: 0.9326\n",
            "Epoch 30/30\n",
            "56/56 [==============================] - 0s 2ms/step - loss: 0.0416 - accuracy: 0.9978 - val_loss: 0.1965 - val_accuracy: 0.9326\n"
          ],
          "name": "stdout"
        },
        {
          "output_type": "display_data",
          "data": {
            "image/png": "[encoded data removed]",
            "text/plain": [
              "<Figure size 432x288 with 1 Axes>"
            ]
          },
          "metadata": {
            "tags": [],
            "needs_background": "light"
          }
        },
        {
          "output_type": "display_data",
          "data": {
            "image/png": "[encoded data removed]",
            "text/plain": [
              "<Figure size 432x288 with 1 Axes>"
            ]
          },
          "metadata": {
            "tags": [],
            "needs_background": "light"
          }
        }
      ]
    },
    {
      "cell_type": "code",
      "metadata": {
        "id": "2Gzl7xJZV0Sq"
      },
      "source": [
        "reverse_word_index = dict([(value, key) for (key, value) in word_index.items()])\n",
        "e = model.layers[0]\n",
        "weights = e.get_weights()[0]\n",
        "\n",
        "import io \n",
        "\n",
        "out_v = io.open(\"vecs_bbc.tsv\", 'w', encoding=\"utf-8\")\n",
        "out_m = io.open(\"meta_bbc.tsv\", 'w', encoding=\"utf-8\")\n",
        "for word_num in range(1,vocab_size):\n",
        "    word = reverse_word_index[word_num]\n",
        "    embedding = weights[word_num]\n",
        "    out_m.write(word+\"\\n\")\n",
        "    out_v.write(\"\\t\".join([str(val) for val in embedding]) + \"\\n\")\n",
        "out_v.close()\n",
        "out_m.close()"
      ],
      "execution_count": 27,
      "outputs": []
    },
    {
      "cell_type": "code",
      "metadata": {
        "id": "b8WGzr8bWwW_",
        "outputId": "dff0f16d-8031-4735-eef3-e13287e377c6",
        "colab": {
          "base_uri": "https://localhost:8080/",
          "height": 17
        }
      },
      "source": [
        "try:\n",
        "    from google.colab import files\n",
        "except ImportError:\n",
        "    pass\n",
        "else:\n",
        "    files.download('vecs_bbc.tsv')\n",
        "    files.download('meta_bbc.tsv')"
      ],
      "execution_count": 28,
      "outputs": [
        {
          "output_type": "display_data",
          "data": {
            "application/javascript": [
              "\n",
              "    async function download(id, filename, size) {\n",
              "      if (!google.colab.kernel.accessAllowed) {\n",
              "        return;\n",
              "      }\n",
              "      const div = document.createElement('div');\n",
              "      const label = document.createElement('label');\n",
              "      label.textContent = `Downloading \"${filename}\": `;\n",
              "      div.appendChild(label);\n",
              "      const progress = document.createElement('progress');\n",
              "      progress.max = size;\n",
              "      div.appendChild(progress);\n",
              "      document.body.appendChild(div);\n",
              "\n",
              "      const buffers = [];\n",
              "      let downloaded = 0;\n",
              "\n",
              "      const channel = await google.colab.kernel.comms.open(id);\n",
              "      // Send a message to notify the kernel that we're ready.\n",
              "      channel.send({})\n",
              "\n",
              "      for await (const message of channel.messages) {\n",
              "        // Send a message to notify the kernel that we're ready.\n",
              "        channel.send({})\n",
              "        if (message.buffers) {\n",
              "          for (const buffer of message.buffers) {\n",
              "            buffers.push(buffer);\n",
              "            downloaded += buffer.byteLength;\n",
              "            progress.value = downloaded;\n",
              "          }\n",
              "        }\n",
              "      }\n",
              "      const blob = new Blob(buffers, {type: 'application/binary'});\n",
              "      const a = document.createElement('a');\n",
              "      a.href = window.URL.createObjectURL(blob);\n",
              "      a.download = filename;\n",
              "      div.appendChild(a);\n",
              "      a.click();\n",
              "      div.remove();\n",
              "    }\n",
              "  "
            ],
            "text/plain": [
              "<IPython.core.display.Javascript object>"
            ]
          },
          "metadata": {
            "tags": []
          }
        },
        {
          "output_type": "display_data",
          "data": {
            "application/javascript": [
              "download(\"download_73f29973-1099-417c-ad19-a54e6b43d8a3\", \"vecs_bbc.tsv\", 182169)"
            ],
            "text/plain": [
              "<IPython.core.display.Javascript object>"
            ]
          },
          "metadata": {
            "tags": []
          }
        },
        {
          "output_type": "display_data",
          "data": {
            "application/javascript": [
              "\n",
              "    async function download(id, filename, size) {\n",
              "      if (!google.colab.kernel.accessAllowed) {\n",
              "        return;\n",
              "      }\n",
              "      const div = document.createElement('div');\n",
              "      const label = document.createElement('label');\n",
              "      label.textContent = `Downloading \"${filename}\": `;\n",
              "      div.appendChild(label);\n",
              "      const progress = document.createElement('progress');\n",
              "      progress.max = size;\n",
              "      div.appendChild(progress);\n",
              "      document.body.appendChild(div);\n",
              "\n",
              "      const buffers = [];\n",
              "      let downloaded = 0;\n",
              "\n",
              "      const channel = await google.colab.kernel.comms.open(id);\n",
              "      // Send a message to notify the kernel that we're ready.\n",
              "      channel.send({})\n",
              "\n",
              "      for await (const message of channel.messages) {\n",
              "        // Send a message to notify the kernel that we're ready.\n",
              "        channel.send({})\n",
              "        if (message.buffers) {\n",
              "          for (const buffer of message.buffers) {\n",
              "            buffers.push(buffer);\n",
              "            downloaded += buffer.byteLength;\n",
              "            progress.value = downloaded;\n",
              "          }\n",
              "        }\n",
              "      }\n",
              "      const blob = new Blob(buffers, {type: 'application/binary'});\n",
              "      const a = document.createElement('a');\n",
              "      a.href = window.URL.createObjectURL(blob);\n",
              "      a.download = filename;\n",
              "      div.appendChild(a);\n",
              "      a.click();\n",
              "      div.remove();\n",
              "    }\n",
              "  "
            ],
            "text/plain": [
              "<IPython.core.display.Javascript object>"
            ]
          },
          "metadata": {
            "tags": []
          }
        },
        {
          "output_type": "display_data",
          "data": {
            "application/javascript": [
              "download(\"download_fdbe58ee-7c72-48d5-a7f8-c1f3dbd64ea7\", \"meta_bbc.tsv\", 6529)"
            ],
            "text/plain": [
              "<IPython.core.display.Javascript object>"
            ]
          },
          "metadata": {
            "tags": []
          }
        }
      ]
    }
  ]
}
