{
  "nbformat": 4,
  "nbformat_minor": 0,
  "metadata": {
    "colab": {
      "name": "DLDay7_sarcasm_detection.ipynb",
      "provenance": []
    },
    "kernelspec": {
      "name": "python3",
      "display_name": "Python 3"
    }
  },
  "cells": [
    {
      "cell_type": "code",
      "metadata": {
        "id": "U-a8L5sMjQG3",
        "colab_type": "code",
        "colab": {
          "base_uri": "https://localhost:8080/",
          "height": 202
        },
        "outputId": "3a09e76a-fb41-4047-e55a-beaefcddaaf2"
      },
      "source": [
        "!wget --no-check-certificate \\\n",
        "    https://storage.googleapis.com/laurencemoroney-blog.appspot.com/sarcasm.json \\\n",
        "    -O /tmp/sarcasm.json"
      ],
      "execution_count": 1,
      "outputs": [
        {
          "output_type": "stream",
          "text": [
            "--2020-09-29 11:37:31--  https://storage.googleapis.com/laurencemoroney-blog.appspot.com/sarcasm.json\n",
            "Resolving storage.googleapis.com (storage.googleapis.com)... 64.233.189.128, 74.125.23.128, 74.125.203.128, ...\n",
            "Connecting to storage.googleapis.com (storage.googleapis.com)|64.233.189.128|:443... connected.\n",
            "HTTP request sent, awaiting response... 200 OK\n",
            "Length: 5643545 (5.4M) [application/json]\n",
            "Saving to: ‘/tmp/sarcasm.json’\n",
            "\n",
            "\r/tmp/sarcasm.json     0%[                    ]       0  --.-KB/s               \r/tmp/sarcasm.json   100%[===================>]   5.38M  --.-KB/s    in 0.05s   \n",
            "\n",
            "2020-09-29 11:37:31 (110 MB/s) - ‘/tmp/sarcasm.json’ saved [5643545/5643545]\n",
            "\n"
          ],
          "name": "stdout"
        }
      ]
    },
    {
      "cell_type": "code",
      "metadata": {
        "id": "JGAsyveH20oI",
        "colab_type": "code",
        "colab": {}
      },
      "source": [
        "import json\n",
        "with open('/tmp/sarcasm.json', 'r') as f:\n",
        "  datastore = json.load(f)\n",
        "\n",
        "sentences = []\n",
        "labels = []\n",
        "for item in datastore:\n",
        "  sentences.append(item['headline'])\n",
        "  labels.append(item['is_sarcastic'])"
      ],
      "execution_count": 2,
      "outputs": []
    },
    {
      "cell_type": "code",
      "metadata": {
        "id": "85EgFqv527mz",
        "colab_type": "code",
        "colab": {}
      },
      "source": [
        "training_size = 20000\n",
        "training_sentences = sentences[0:training_size]\n",
        "testing_sentences = sentences[training_size:]\n",
        "training_labels = labels[0:training_size]\n",
        "testing_labels = labels[training_size:]"
      ],
      "execution_count": 3,
      "outputs": []
    },
    {
      "cell_type": "code",
      "metadata": {
        "id": "AxpQ-s2l30Es",
        "colab_type": "code",
        "colab": {}
      },
      "source": [
        "vocab_size = 10000\n",
        "oov_tok = \"<OOV>\"\n",
        "padding_type=\"post\"\n",
        "max_length = 100\n",
        "trunc_type = \"post\"\n",
        "embedding_dim = 16 "
      ],
      "execution_count": 4,
      "outputs": []
    },
    {
      "cell_type": "code",
      "metadata": {
        "id": "Hbm9tRSy3nql",
        "colab_type": "code",
        "colab": {}
      },
      "source": [
        "from tensorflow.keras.preprocessing.text import Tokenizer\n",
        "from tensorflow.keras.preprocessing.sequence import pad_sequences\n",
        "\n",
        "tokenizer = Tokenizer(num_words=vocab_size, oov_token = oov_tok)\n",
        "tokenizer.fit_on_texts(training_sentences)\n",
        "word_index = tokenizer.word_index\n",
        "\n",
        "training_sequences = tokenizer.texts_to_sequences(training_sentences)\n",
        "training_padded = pad_sequences(training_sequences, maxlen=max_length, padding=padding_type, truncating=\"post\")\n",
        "\n",
        "testing_sequences = tokenizer.texts_to_sequences(testing_sentences)\n",
        "testing_padded = pad_sequences(testing_sequences, maxlen=max_length, padding=padding_type, truncating=\"post\")"
      ],
      "execution_count": 5,
      "outputs": []
    },
    {
      "cell_type": "code",
      "metadata": {
        "id": "XWojtbnY69Fd",
        "colab_type": "code",
        "colab": {}
      },
      "source": [
        "import numpy as np\n",
        "\n",
        "training_padded = np.array(training_padded)\n",
        "training_labels = np.array(training_labels)\n",
        "testing_padded = np.array(testing_padded)\n",
        "testing_labels = np.array(testing_labels)"
      ],
      "execution_count": 6,
      "outputs": []
    },
    {
      "cell_type": "code",
      "metadata": {
        "id": "cxf5QKo55OUB",
        "colab_type": "code",
        "colab": {}
      },
      "source": [
        "import tensorflow as tf\n",
        "\n",
        "model = tf.keras.Sequential([\n",
        "                                   tf.keras.layers.Embedding(vocab_size, embedding_dim, input_length = max_length),\n",
        "                                   tf.keras.layers.GlobalAveragePooling1D(),\n",
        "                                   tf.keras.layers.Dense(24, activation = 'relu'),\n",
        "                                   tf.keras.layers.Dense(1, activation = 'sigmoid')\n",
        "])\n",
        "\n",
        "model.compile(loss=\"binary_crossentropy\", optimizer=\"adam\", metrics=[\"accuracy\"])"
      ],
      "execution_count": 7,
      "outputs": []
    },
    {
      "cell_type": "code",
      "metadata": {
        "id": "sG7Rj2_Z6kwJ",
        "colab_type": "code",
        "colab": {
          "base_uri": "https://localhost:8080/",
          "height": 286
        },
        "outputId": "ad0f2263-6b3e-4936-964f-bd8c5c2c786b"
      },
      "source": [
        "model.summary()"
      ],
      "execution_count": 8,
      "outputs": [
        {
          "output_type": "stream",
          "text": [
            "Model: \"sequential\"\n",
            "_________________________________________________________________\n",
            "Layer (type)                 Output Shape              Param #   \n",
            "=================================================================\n",
            "embedding (Embedding)        (None, 100, 16)           160000    \n",
            "_________________________________________________________________\n",
            "global_average_pooling1d (Gl (None, 16)                0         \n",
            "_________________________________________________________________\n",
            "dense (Dense)                (None, 24)                408       \n",
            "_________________________________________________________________\n",
            "dense_1 (Dense)              (None, 1)                 25        \n",
            "=================================================================\n",
            "Total params: 160,433\n",
            "Trainable params: 160,433\n",
            "Non-trainable params: 0\n",
            "_________________________________________________________________\n"
          ],
          "name": "stdout"
        }
      ]
    },
    {
      "cell_type": "code",
      "metadata": {
        "id": "WslPCMIr6Sp6",
        "colab_type": "code",
        "colab": {
          "base_uri": "https://localhost:8080/",
          "height": 1000
        },
        "outputId": "94a6344d-d6ec-4ba2-cde2-6b969d479cfe"
      },
      "source": [
        "num_epochs = 30\n",
        "history = model.fit(training_padded, training_labels, epochs=num_epochs, validation_data=(testing_padded, testing_labels), verbose=2)"
      ],
      "execution_count": 9,
      "outputs": [
        {
          "output_type": "stream",
          "text": [
            "Epoch 1/30\n",
            "625/625 - 2s - loss: 0.6649 - accuracy: 0.5809 - val_loss: 0.5784 - val_accuracy: 0.7098\n",
            "Epoch 2/30\n",
            "625/625 - 2s - loss: 0.4303 - accuracy: 0.8284 - val_loss: 0.3836 - val_accuracy: 0.8423\n",
            "Epoch 3/30\n",
            "625/625 - 2s - loss: 0.3098 - accuracy: 0.8794 - val_loss: 0.3530 - val_accuracy: 0.8530\n",
            "Epoch 4/30\n",
            "625/625 - 2s - loss: 0.2563 - accuracy: 0.8989 - val_loss: 0.3442 - val_accuracy: 0.8556\n",
            "Epoch 5/30\n",
            "625/625 - 2s - loss: 0.2211 - accuracy: 0.9147 - val_loss: 0.3502 - val_accuracy: 0.8538\n",
            "Epoch 6/30\n",
            "625/625 - 2s - loss: 0.1949 - accuracy: 0.9255 - val_loss: 0.3576 - val_accuracy: 0.8518\n",
            "Epoch 7/30\n",
            "625/625 - 2s - loss: 0.1719 - accuracy: 0.9354 - val_loss: 0.3649 - val_accuracy: 0.8536\n",
            "Epoch 8/30\n",
            "625/625 - 2s - loss: 0.1537 - accuracy: 0.9444 - val_loss: 0.4150 - val_accuracy: 0.8372\n",
            "Epoch 9/30\n",
            "625/625 - 2s - loss: 0.1401 - accuracy: 0.9482 - val_loss: 0.3988 - val_accuracy: 0.8504\n",
            "Epoch 10/30\n",
            "625/625 - 2s - loss: 0.1267 - accuracy: 0.9563 - val_loss: 0.4191 - val_accuracy: 0.8484\n",
            "Epoch 11/30\n",
            "625/625 - 2s - loss: 0.1149 - accuracy: 0.9594 - val_loss: 0.4452 - val_accuracy: 0.8445\n",
            "Epoch 12/30\n",
            "625/625 - 2s - loss: 0.1041 - accuracy: 0.9633 - val_loss: 0.4654 - val_accuracy: 0.8456\n",
            "Epoch 13/30\n",
            "625/625 - 2s - loss: 0.0959 - accuracy: 0.9675 - val_loss: 0.5058 - val_accuracy: 0.8386\n",
            "Epoch 14/30\n",
            "625/625 - 2s - loss: 0.0877 - accuracy: 0.9705 - val_loss: 0.5207 - val_accuracy: 0.8420\n",
            "Epoch 15/30\n",
            "625/625 - 2s - loss: 0.0786 - accuracy: 0.9743 - val_loss: 0.5537 - val_accuracy: 0.8369\n",
            "Epoch 16/30\n",
            "625/625 - 2s - loss: 0.0738 - accuracy: 0.9766 - val_loss: 0.5812 - val_accuracy: 0.8346\n",
            "Epoch 17/30\n",
            "625/625 - 2s - loss: 0.0688 - accuracy: 0.9782 - val_loss: 0.6170 - val_accuracy: 0.8317\n",
            "Epoch 18/30\n",
            "625/625 - 2s - loss: 0.0608 - accuracy: 0.9806 - val_loss: 0.6620 - val_accuracy: 0.8278\n",
            "Epoch 19/30\n",
            "625/625 - 2s - loss: 0.0566 - accuracy: 0.9822 - val_loss: 0.6899 - val_accuracy: 0.8274\n",
            "Epoch 20/30\n",
            "625/625 - 2s - loss: 0.0517 - accuracy: 0.9843 - val_loss: 0.7422 - val_accuracy: 0.8249\n",
            "Epoch 21/30\n",
            "625/625 - 2s - loss: 0.0484 - accuracy: 0.9851 - val_loss: 0.7947 - val_accuracy: 0.8219\n",
            "Epoch 22/30\n",
            "625/625 - 2s - loss: 0.0448 - accuracy: 0.9863 - val_loss: 0.8005 - val_accuracy: 0.8226\n",
            "Epoch 23/30\n",
            "625/625 - 2s - loss: 0.0391 - accuracy: 0.9891 - val_loss: 0.8282 - val_accuracy: 0.8205\n",
            "Epoch 24/30\n",
            "625/625 - 2s - loss: 0.0370 - accuracy: 0.9895 - val_loss: 0.8750 - val_accuracy: 0.8186\n",
            "Epoch 25/30\n",
            "625/625 - 2s - loss: 0.0350 - accuracy: 0.9895 - val_loss: 1.0363 - val_accuracy: 0.8137\n",
            "Epoch 26/30\n",
            "625/625 - 2s - loss: 0.0310 - accuracy: 0.9913 - val_loss: 0.9624 - val_accuracy: 0.8158\n",
            "Epoch 27/30\n",
            "625/625 - 2s - loss: 0.0288 - accuracy: 0.9920 - val_loss: 0.9840 - val_accuracy: 0.8149\n",
            "Epoch 28/30\n",
            "625/625 - 2s - loss: 0.0272 - accuracy: 0.9929 - val_loss: 1.0169 - val_accuracy: 0.8141\n",
            "Epoch 29/30\n",
            "625/625 - 2s - loss: 0.0246 - accuracy: 0.9930 - val_loss: 1.0557 - val_accuracy: 0.8111\n",
            "Epoch 30/30\n",
            "625/625 - 2s - loss: 0.0243 - accuracy: 0.9932 - val_loss: 1.1578 - val_accuracy: 0.8137\n"
          ],
          "name": "stdout"
        }
      ]
    },
    {
      "cell_type": "code",
      "metadata": {
        "id": "ZpDgMUwm6l0Y",
        "colab_type": "code",
        "colab": {
          "base_uri": "https://localhost:8080/",
          "height": 543
        },
        "outputId": "99936eb5-f1a3-4aad-902c-87041c819f0a"
      },
      "source": [
        "import matplotlib.pyplot as plt\n",
        "%matplotlib inline\n",
        "\n",
        "def plot_graphs(history, string):\n",
        "  plt.plot(history.history[string])\n",
        "  plt.plot(history.history['val_'+string])\n",
        "  plt.xlabel(\"Epochs\")\n",
        "  plt.ylabel(string)\n",
        "  plt.legend([string, 'val_'+string])\n",
        "  plt.show()\n",
        "  \n",
        "plot_graphs(history, \"accuracy\")\n",
        "plot_graphs(history, \"loss\")"
      ],
      "execution_count": 10,
      "outputs": [
        {
          "output_type": "display_data",
          "data": {
            "image/png": "[encoded data removed]",
            "text/plain": [
              "<Figure size 432x288 with 1 Axes>"
            ]
          },
          "metadata": {
            "tags": [],
            "needs_background": "light"
          }
        },
        {
          "output_type": "display_data",
          "data": {
            "image/png": "[encoded data removed]",
            "text/plain": [
              "<Figure size 432x288 with 1 Axes>"
            ]
          },
          "metadata": {
            "tags": [],
            "needs_background": "light"
          }
        }
      ]
    },
    {
      "cell_type": "code",
      "metadata": {
        "id": "k2gYk5Tc9kwV",
        "colab_type": "code",
        "colab": {
          "base_uri": "https://localhost:8080/",
          "height": 34
        },
        "outputId": "fe68a212-6edb-48d1-c521-9918829b705f"
      },
      "source": [
        "e = model.layers[0]\n",
        "weights = e.get_weights()[0]\n",
        "print(weights.shape) "
      ],
      "execution_count": 11,
      "outputs": [
        {
          "output_type": "stream",
          "text": [
            "(10000, 16)\n"
          ],
          "name": "stdout"
        }
      ]
    },
    {
      "cell_type": "code",
      "metadata": {
        "id": "uMYEQMlo7-3Z",
        "colab_type": "code",
        "colab": {}
      },
      "source": [
        "reverse_word_index = dict([(value, key) for (key, value) in word_index.items()])\n",
        "\n",
        "import io\n",
        "\n",
        "out_v = io.open('vecs_sarcasm.tsv', 'w', encoding='utf-8')\n",
        "out_m = io.open('meta_sarcasm.tsv', 'w', encoding='utf-8')\n",
        "for word_num in range(1,vocab_size):\n",
        "  word = reverse_word_index[word_num]\n",
        "  embeddings = weights[word_num]\n",
        "  out_m.write(word + \"\\n\")\n",
        "  out_v.write(\"\\t\".join([str(val) for val in embeddings]) + \"\\n\")\n",
        "out_v.close()\n",
        "out_m.close()"
      ],
      "execution_count": 12,
      "outputs": []
    },
    {
      "cell_type": "code",
      "metadata": {
        "id": "FzhzK00J-Olt",
        "colab_type": "code",
        "colab": {
          "base_uri": "https://localhost:8080/",
          "height": 17
        },
        "outputId": "a313a796-a083-49aa-e10c-511f8db19b0c"
      },
      "source": [
        "try:\n",
        "  from google.colab import files\n",
        "except ImportError:\n",
        "  pass\n",
        "else:\n",
        "  files.download('vecs_sarcasm.tsv')\n",
        "  files.download('meta_sarcasm.tsv')"
      ],
      "execution_count": 13,
      "outputs": [
        {
          "output_type": "display_data",
          "data": {
            "application/javascript": [
              "\n",
              "    async function download(id, filename, size) {\n",
              "      if (!google.colab.kernel.accessAllowed) {\n",
              "        return;\n",
              "      }\n",
              "      const div = document.createElement('div');\n",
              "      const label = document.createElement('label');\n",
              "      label.textContent = `Downloading \"${filename}\": `;\n",
              "      div.appendChild(label);\n",
              "      const progress = document.createElement('progress');\n",
              "      progress.max = size;\n",
              "      div.appendChild(progress);\n",
              "      document.body.appendChild(div);\n",
              "\n",
              "      const buffers = [];\n",
              "      let downloaded = 0;\n",
              "\n",
              "      const channel = await google.colab.kernel.comms.open(id);\n",
              "      // Send a message to notify the kernel that we're ready.\n",
              "      channel.send({})\n",
              "\n",
              "      for await (const message of channel.messages) {\n",
              "        // Send a message to notify the kernel that we're ready.\n",
              "        channel.send({})\n",
              "        if (message.buffers) {\n",
              "          for (const buffer of message.buffers) {\n",
              "            buffers.push(buffer);\n",
              "            downloaded += buffer.byteLength;\n",
              "            progress.value = downloaded;\n",
              "          }\n",
              "        }\n",
              "      }\n",
              "      const blob = new Blob(buffers, {type: 'application/binary'});\n",
              "      const a = document.createElement('a');\n",
              "      a.href = window.URL.createObjectURL(blob);\n",
              "      a.download = filename;\n",
              "      div.appendChild(a);\n",
              "      a.click();\n",
              "      div.remove();\n",
              "    }\n",
              "  "
            ],
            "text/plain": [
              "<IPython.core.display.Javascript object>"
            ]
          },
          "metadata": {
            "tags": []
          }
        },
        {
          "output_type": "display_data",
          "data": {
            "application/javascript": [
              "download(\"download_d2062f96-dc72-4dcf-b568-5322be2f5d85\", \"vecs_sarcasm.tsv\", 1814321)"
            ],
            "text/plain": [
              "<IPython.core.display.Javascript object>"
            ]
          },
          "metadata": {
            "tags": []
          }
        },
        {
          "output_type": "display_data",
          "data": {
            "application/javascript": [
              "\n",
              "    async function download(id, filename, size) {\n",
              "      if (!google.colab.kernel.accessAllowed) {\n",
              "        return;\n",
              "      }\n",
              "      const div = document.createElement('div');\n",
              "      const label = document.createElement('label');\n",
              "      label.textContent = `Downloading \"${filename}\": `;\n",
              "      div.appendChild(label);\n",
              "      const progress = document.createElement('progress');\n",
              "      progress.max = size;\n",
              "      div.appendChild(progress);\n",
              "      document.body.appendChild(div);\n",
              "\n",
              "      const buffers = [];\n",
              "      let downloaded = 0;\n",
              "\n",
              "      const channel = await google.colab.kernel.comms.open(id);\n",
              "      // Send a message to notify the kernel that we're ready.\n",
              "      channel.send({})\n",
              "\n",
              "      for await (const message of channel.messages) {\n",
              "        // Send a message to notify the kernel that we're ready.\n",
              "        channel.send({})\n",
              "        if (message.buffers) {\n",
              "          for (const buffer of message.buffers) {\n",
              "            buffers.push(buffer);\n",
              "            downloaded += buffer.byteLength;\n",
              "            progress.value = downloaded;\n",
              "          }\n",
              "        }\n",
              "      }\n",
              "      const blob = new Blob(buffers, {type: 'application/binary'});\n",
              "      const a = document.createElement('a');\n",
              "      a.href = window.URL.createObjectURL(blob);\n",
              "      a.download = filename;\n",
              "      div.appendChild(a);\n",
              "      a.click();\n",
              "      div.remove();\n",
              "    }\n",
              "  "
            ],
            "text/plain": [
              "<IPython.core.display.Javascript object>"
            ]
          },
          "metadata": {
            "tags": []
          }
        },
        {
          "output_type": "display_data",
          "data": {
            "application/javascript": [
              "download(\"download_4ed774f1-7c53-4993-b3b5-82de367aff44\", \"meta_sarcasm.tsv\", 75974)"
            ],
            "text/plain": [
              "<IPython.core.display.Javascript object>"
            ]
          },
          "metadata": {
            "tags": []
          }
        }
      ]
    }
  ]
}
