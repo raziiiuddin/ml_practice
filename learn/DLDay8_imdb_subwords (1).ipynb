{
  "nbformat": 4,
  "nbformat_minor": 0,
  "metadata": {
    "colab": {
      "name": "DLDay8_imdb_subwords.ipynb",
      "provenance": []
    },
    "kernelspec": {
      "name": "python3",
      "display_name": "Python 3"
    }
  },
  "cells": [
    {
      "cell_type": "code",
      "metadata": {
        "id": "RzT8wTckwMIz",
        "outputId": "81937079-d3d2-415b-beed-26fc7dd4787d",
        "colab": {
          "base_uri": "https://localhost:8080/",
          "height": 34
        }
      },
      "source": [
        "import tensorflow as tf\n",
        "print(tf.__version__)\n",
        "tf.compat.v1.disable_eager_execution()"
      ],
      "execution_count": 8,
      "outputs": [
        {
          "output_type": "stream",
          "text": [
            "2.3.0\n"
          ],
          "name": "stdout"
        }
      ]
    },
    {
      "cell_type": "code",
      "metadata": {
        "id": "OsgWsWZLwWSC"
      },
      "source": [
        "import tensorflow_datasets as tfds\n",
        "imdb, info = tfds.load(\"imdb_reviews/subwords8k\", with_info=True, as_supervised=True)"
      ],
      "execution_count": 9,
      "outputs": []
    },
    {
      "cell_type": "code",
      "metadata": {
        "id": "WMl0H_eiwug-"
      },
      "source": [
        "train_data, test_data = imdb['train'], imdb['test']\n",
        "tokenizer = info.features['text'].encoder\n",
        "# Uncomment to see the subwords\n",
        "#print(tokenizer.subwords)"
      ],
      "execution_count": 10,
      "outputs": []
    },
    {
      "cell_type": "code",
      "metadata": {
        "id": "6ucKmzvgw_Pp",
        "outputId": "746bdb07-afac-42fc-edb3-61482151a841",
        "colab": {
          "base_uri": "https://localhost:8080/",
          "height": 235
        }
      },
      "source": [
        "sample_string = \"TensorFlow, from basics to mastery\"\n",
        "tokenized_string = tokenizer.encode(sample_string)\n",
        "print(\"Tokenized string is {}\".format(tokenized_string))\n",
        "original_string = tokenizer.decode(tokenized_string)\n",
        "print(\"Original string is {}\".format(original_string))\n",
        "\n",
        "for ts in tokenized_string:\n",
        "    print(\"{} -------> {}\".format(ts,tokenizer.decode([ts])))"
      ],
      "execution_count": 11,
      "outputs": [
        {
          "output_type": "stream",
          "text": [
            "Tokenized string is [6307, 2327, 4043, 2120, 2, 48, 4249, 4429, 7, 2652, 8050]\n",
            "Original string is TensorFlow, from basics to mastery\n",
            "6307 -------> Ten\n",
            "2327 -------> sor\n",
            "4043 -------> Fl\n",
            "2120 -------> ow\n",
            "2 -------> , \n",
            "48 -------> from \n",
            "4249 -------> basi\n",
            "4429 -------> cs \n",
            "7 -------> to \n",
            "2652 -------> master\n",
            "8050 -------> y\n"
          ],
          "name": "stdout"
        }
      ]
    },
    {
      "cell_type": "code",
      "metadata": {
        "id": "PXi33CQnxBE9",
        "outputId": "dcda28b0-3a52-49f2-c977-70a32829afa3",
        "colab": {
          "base_uri": "https://localhost:8080/",
          "height": 286
        }
      },
      "source": [
        "#BUFFER_SIZE = 10000\n",
        "#BATCH_SIZE = 64\n",
        "#train_dataset = train_data.shuffle(BUFFER_SIZE)\n",
        "#train_dataset = train_dataset.padded_batch(BATCH_SIZE,tf.compat.v1.data.get_output_shapes(train_data))\n",
        "#test_dataset = test_data.padded_batch(BATCH_SIZE,tf.compat.v1.data.get_output_shapes(test_data))\n",
        "\n",
        "embedding_dim = 64\n",
        "model = tf.keras.Sequential([\n",
        "            tf.keras.layers.Embedding(tokenizer.vocab_size, embedding_dim),\n",
        "            tf.keras.layers.GlobalAveragePooling1D(),\n",
        "            tf.keras.layers.Dense(6, activation=\"relu\"),\n",
        "            tf.keras.layers.Dense(1, activation=\"sigmoid\")\n",
        "])\n",
        "\n",
        "model.summary()\n",
        "model.compile(loss=\"binary_crossentropy\", optimizer=\"adam\", metrics=[\"accuracy\"])"
      ],
      "execution_count": 12,
      "outputs": [
        {
          "output_type": "stream",
          "text": [
            "Model: \"sequential_1\"\n",
            "_________________________________________________________________\n",
            "Layer (type)                 Output Shape              Param #   \n",
            "=================================================================\n",
            "embedding_1 (Embedding)      (None, None, 64)          523840    \n",
            "_________________________________________________________________\n",
            "global_average_pooling1d_1 ( (None, 64)                0         \n",
            "_________________________________________________________________\n",
            "dense_2 (Dense)              (None, 6)                 390       \n",
            "_________________________________________________________________\n",
            "dense_3 (Dense)              (None, 1)                 7         \n",
            "=================================================================\n",
            "Total params: 524,237\n",
            "Trainable params: 524,237\n",
            "Non-trainable params: 0\n",
            "_________________________________________________________________\n"
          ],
          "name": "stdout"
        }
      ]
    },
    {
      "cell_type": "code",
      "metadata": {
        "id": "8j6lDMRG1Ijq",
        "outputId": "30a44d4d-33a7-43c1-f9b5-028396360051",
        "colab": {
          "base_uri": "https://localhost:8080/",
          "height": 490
        }
      },
      "source": [
        "history = model.fit(train_data, epochs=10, validation_data=test_data, validation_steps=10)\n",
        "#history = model.fit(train_dataset, epochs=10, validation_data=test_dataset)"
      ],
      "execution_count": 14,
      "outputs": [
        {
          "output_type": "stream",
          "text": [
            "Train on None steps, validate on 10 steps\n",
            "Epoch 1/10\n",
            "  24995/Unknown - 209s 8ms/step - batch: 12497.0000 - size: 1.0000 - loss: 0.6841 - accuracy: 0.5398WARNING:tensorflow:From /usr/local/lib/python3.6/dist-packages/tensorflow/python/keras/engine/training_v1.py:2048: Model.state_updates (from tensorflow.python.keras.engine.training) is deprecated and will be removed in a future version.\n",
            "Instructions for updating:\n",
            "This property should not be used in TensorFlow 2.0, as updates are applied automatically.\n"
          ],
          "name": "stdout"
        },
        {
          "output_type": "stream",
          "text": [
            "WARNING:tensorflow:From /usr/local/lib/python3.6/dist-packages/tensorflow/python/keras/engine/training_v1.py:2048: Model.state_updates (from tensorflow.python.keras.engine.training) is deprecated and will be removed in a future version.\n",
            "Instructions for updating:\n",
            "This property should not be used in TensorFlow 2.0, as updates are applied automatically.\n"
          ],
          "name": "stderr"
        },
        {
          "output_type": "stream",
          "text": [
            "\b\b\b\b\b\b\b\b\b\b\b\b\b\b\b\b\b\b\b\b\b\b\b\b\b\b\b\b\b\b\b\b\b\b\b\b\b\b\b\b\b\b\b\b\b\b\b\b\b\b\b\b\b\b\b\b\b\b\b\b\b\b\b\b\b\b\b\b\b\b\b\b\b\b\b\b\b\b\b\b\b\b\b\b\b\b\b\b\b\b\b\b\b\b\b\b\b\b\b\b\r25000/25000 [==============================] - 209s 8ms/step - batch: 12499.5000 - size: 1.0000 - loss: 0.6841 - accuracy: 0.5397 - val_loss: 0.6697 - val_accuracy: 0.5407\n",
            "Epoch 2/10\n",
            "25000/25000 [==============================] - 195s 8ms/step - batch: 12499.5000 - size: 1.0000 - loss: 0.6829 - accuracy: 0.5422 - val_loss: 0.6695 - val_accuracy: 0.5419\n",
            "Epoch 3/10\n",
            "25000/25000 [==============================] - 193s 8ms/step - batch: 12499.5000 - size: 1.0000 - loss: 0.6822 - accuracy: 0.5430 - val_loss: 0.6691 - val_accuracy: 0.5425\n",
            "Epoch 4/10\n",
            "25000/25000 [==============================] - 200s 8ms/step - batch: 12499.5000 - size: 1.0000 - loss: 0.6817 - accuracy: 0.5447 - val_loss: 0.6686 - val_accuracy: 0.5433\n",
            "Epoch 5/10\n",
            "25000/25000 [==============================] - 196s 8ms/step - batch: 12499.5000 - size: 1.0000 - loss: 0.6813 - accuracy: 0.5458 - val_loss: 0.6686 - val_accuracy: 0.5390\n",
            "Epoch 6/10\n",
            "25000/25000 [==============================] - 200s 8ms/step - batch: 12499.5000 - size: 1.0000 - loss: 0.6811 - accuracy: 0.5465 - val_loss: 0.6679 - val_accuracy: 0.5407\n",
            "Epoch 7/10\n",
            "25000/25000 [==============================] - 191s 8ms/step - batch: 12499.5000 - size: 1.0000 - loss: 0.6809 - accuracy: 0.5470 - val_loss: 0.6673 - val_accuracy: 0.5490\n",
            "Epoch 8/10\n",
            "25000/25000 [==============================] - 200s 8ms/step - batch: 12499.5000 - size: 1.0000 - loss: 0.6807 - accuracy: 0.5472 - val_loss: 0.6670 - val_accuracy: 0.5556\n",
            "Epoch 9/10\n",
            "25000/25000 [==============================] - 218s 9ms/step - batch: 12499.5000 - size: 1.0000 - loss: 0.6806 - accuracy: 0.5475 - val_loss: 0.6666 - val_accuracy: 0.5533\n",
            "Epoch 10/10\n",
            "25000/25000 [==============================] - 219s 9ms/step - batch: 12499.5000 - size: 1.0000 - loss: 0.6805 - accuracy: 0.5477 - val_loss: 0.6663 - val_accuracy: 0.5501\n"
          ],
          "name": "stdout"
        }
      ]
    },
    {
      "cell_type": "code",
      "metadata": {
        "id": "rpa7R1t611Pe",
        "outputId": "0443b663-1835-4848-ba36-dc05592d181f",
        "colab": {
          "base_uri": "https://localhost:8080/",
          "height": 541
        }
      },
      "source": [
        "import matplotlib.pyplot as plt\n",
        "\n",
        "def plot_graphs(history, string):\n",
        "    plt.plot(history.history[string])\n",
        "    plt.plot(history.history['val_'+string])\n",
        "    plt.xlabel(\"Epochs\")\n",
        "    plt.ylabel(string)\n",
        "    plt.legend([string,\"val_\"+string])\n",
        "    plt.show()\n",
        "\n",
        "plot_graphs(history,'accuracy')\n",
        "plot_graphs(history,'loss')"
      ],
      "execution_count": 15,
      "outputs": [
        {
          "output_type": "display_data",
          "data": {
            "image/png": "[encoded data removed]",
            "text/plain": [
              "<Figure size 432x288 with 1 Axes>"
            ]
          },
          "metadata": {
            "tags": [],
            "needs_background": "light"
          }
        },
        {
          "output_type": "display_data",
          "data": {
            "image/png": "[encoded data removed]",
            "text/plain": [
              "<Figure size 432x288 with 1 Axes>"
            ]
          },
          "metadata": {
            "tags": [],
            "needs_background": "light"
          }
        }
      ]
    }
  ]
}