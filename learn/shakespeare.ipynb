{
  "nbformat": 4,
  "nbformat_minor": 0,
  "metadata": {
    "colab": {
      "name": "shakespeare.ipynb",
      "provenance": []
    },
    "kernelspec": {
      "name": "python3",
      "display_name": "Python 3"
    }
  },
  "cells": [
    {
      "cell_type": "markdown",
      "metadata": {
        "id": "tLcrL5jIVE0o"
      },
      "source": [
        "##Generating Shakespeare like text\n",
        "Using a collection of shakespeare's sonnets we train a model which can generate shakespeare like text.\n",
        "We use a simple LSTM."
      ]
    },
    {
      "cell_type": "code",
      "metadata": {
        "id": "R8NKFXzv5x4l",
        "outputId": "0eb680d2-bcb2-4ddf-ba48-aecdead94eb4",
        "colab": {
          "base_uri": "https://localhost:8080/",
          "height": 202
        }
      },
      "source": [
        "!wget --no-check-certificate \\\n",
        "https://raw.githubusercontent.com/raziiiuddin/ml_practice/master/learn/shakespeare.txt \\\n",
        "-O /tmp/shakespeare.txt"
      ],
      "execution_count": 1,
      "outputs": [
        {
          "output_type": "stream",
          "text": [
            "--2020-10-03 14:43:43--  https://raw.githubusercontent.com/raziiiuddin/ml_practice/master/learn/shakespeare.txt\n",
            "Resolving raw.githubusercontent.com (raw.githubusercontent.com)... 151.101.0.133, 151.101.64.133, 151.101.128.133, ...\n",
            "Connecting to raw.githubusercontent.com (raw.githubusercontent.com)|151.101.0.133|:443... connected.\n",
            "HTTP request sent, awaiting response... 200 OK\n",
            "Length: 96745 (94K) [text/plain]\n",
            "Saving to: ‘/tmp/shakespeare.txt’\n",
            "\n",
            "/tmp/shakespeare.tx 100%[===================>]  94.48K  --.-KB/s    in 0.03s   \n",
            "\n",
            "2020-10-03 14:43:44 (2.87 MB/s) - ‘/tmp/shakespeare.txt’ saved [96745/96745]\n",
            "\n"
          ],
          "name": "stdout"
        }
      ]
    },
    {
      "cell_type": "code",
      "metadata": {
        "id": "RwB73nbY6v3_",
        "outputId": "08f9951f-ff60-49b9-c10b-4aefe763745f",
        "colab": {
          "base_uri": "https://localhost:8080/",
          "height": 134
        }
      },
      "source": [
        "with open('/tmp/shakespeare.txt', 'r') as textfile:\n",
        "    data = textfile.read()\n",
        "\n",
        "text = data.lower().split('\\n')\n",
        "# Removing the heading and footer\n",
        "sentences = text[4:-4]\n",
        "sentences[:7]"
      ],
      "execution_count": 23,
      "outputs": [
        {
          "output_type": "execute_result",
          "data": {
            "text/plain": [
              "['from fairest creatures we desire increase,',\n",
              " \"that thereby beauty's rose might never die,\",\n",
              " 'but as the riper should by time decease,',\n",
              " 'his tender heir might bear his memory:',\n",
              " 'but thou contracted to thine own bright eyes,',\n",
              " \"feed'st thy light's flame with self-substantial fuel,\",\n",
              " 'making a famine where abundance lies,']"
            ]
          },
          "metadata": {
            "tags": []
          },
          "execution_count": 23
        }
      ]
    },
    {
      "cell_type": "code",
      "metadata": {
        "id": "JiC7V5kp7w6c",
        "outputId": "76228c47-5179-4ec3-821e-ecb1434ef5e6",
        "colab": {
          "base_uri": "https://localhost:8080/",
          "height": 34
        }
      },
      "source": [
        "import tensorflow as tf \n",
        "import numpy as np\n",
        "import matplotlib.pyplot as plt\n",
        "print(tf.__version__)"
      ],
      "execution_count": 17,
      "outputs": [
        {
          "output_type": "stream",
          "text": [
            "2.3.0\n"
          ],
          "name": "stdout"
        }
      ]
    },
    {
      "cell_type": "code",
      "metadata": {
        "id": "Mzeeat-M7zzY"
      },
      "source": [
        "from tensorflow.keras.preprocessing.text import Tokenizer\n",
        "from tensorflow.keras.preprocessing.sequence import pad_sequences\n",
        "\n",
        "tokenizer = Tokenizer()\n",
        "tokenizer.fit_on_texts(sentences)\n",
        "word_index = tokenizer.word_index\n",
        "total_words = len(word_index) + 1"
      ],
      "execution_count": 19,
      "outputs": []
    },
    {
      "cell_type": "code",
      "metadata": {
        "id": "63iHHTk18eqG",
        "outputId": "4aa7b463-6085-4dca-86fa-52637b0d67d0",
        "colab": {
          "base_uri": "https://localhost:8080/",
          "height": 134
        }
      },
      "source": [
        "sequences = []\n",
        "for sentence in sentences:\n",
        "    token_list = tokenizer.texts_to_sequences([sentence])[0]\n",
        "    for i in range(1,len(token_list)):\n",
        "        n_gram_sequence = token_list[:i+1]\n",
        "        sequences.append(n_gram_sequence)\n",
        "\n",
        "max_sequence_length = max([len(x) for x in sequences])\n",
        "\n",
        "sequences[:7]"
      ],
      "execution_count": 24,
      "outputs": [
        {
          "output_type": "execute_result",
          "data": {
            "text/plain": [
              "[[35, 412],\n",
              " [35, 412, 874],\n",
              " [35, 412, 874, 162],\n",
              " [35, 412, 874, 162, 213],\n",
              " [35, 412, 874, 162, 213, 507],\n",
              " [8, 875],\n",
              " [8, 875, 132]]"
            ]
          },
          "metadata": {
            "tags": []
          },
          "execution_count": 24
        }
      ]
    },
    {
      "cell_type": "code",
      "metadata": {
        "id": "wz71GNYS9tyg"
      },
      "source": [
        "padded = pad_sequences(sequences, maxlen=max_sequence_length, padding=\"pre\")"
      ],
      "execution_count": 25,
      "outputs": []
    },
    {
      "cell_type": "code",
      "metadata": {
        "id": "RkuAZsP197wX",
        "outputId": "e6a2793a-b5d9-495d-a735-2fe6465f77f6",
        "colab": {
          "base_uri": "https://localhost:8080/",
          "height": 151
        }
      },
      "source": [
        "padded[:7]"
      ],
      "execution_count": 26,
      "outputs": [
        {
          "output_type": "execute_result",
          "data": {
            "text/plain": [
              "array([[  0,   0,   0,   0,   0,   0,   0,   0,   0,  35, 412],\n",
              "       [  0,   0,   0,   0,   0,   0,   0,   0,  35, 412, 874],\n",
              "       [  0,   0,   0,   0,   0,   0,   0,  35, 412, 874, 162],\n",
              "       [  0,   0,   0,   0,   0,   0,  35, 412, 874, 162, 213],\n",
              "       [  0,   0,   0,   0,   0,  35, 412, 874, 162, 213, 507],\n",
              "       [  0,   0,   0,   0,   0,   0,   0,   0,   0,   8, 875],\n",
              "       [  0,   0,   0,   0,   0,   0,   0,   0,   8, 875, 132]],\n",
              "      dtype=int32)"
            ]
          },
          "metadata": {
            "tags": []
          },
          "execution_count": 26
        }
      ]
    },
    {
      "cell_type": "code",
      "metadata": {
        "id": "lJZp7vnx990W"
      },
      "source": [
        "xs, labels = padded[:,:-1], padded[:,-1]\n",
        "\n",
        "ys = tf.keras.utils.to_categorical(labels, num_classes=total_words)"
      ],
      "execution_count": 27,
      "outputs": []
    },
    {
      "cell_type": "code",
      "metadata": {
        "id": "X7vlDddW-YDg",
        "outputId": "33e32df8-309b-406c-a3c3-c84af633e941",
        "colab": {
          "base_uri": "https://localhost:8080/",
          "height": 134
        }
      },
      "source": [
        "xs[:7]"
      ],
      "execution_count": 28,
      "outputs": [
        {
          "output_type": "execute_result",
          "data": {
            "text/plain": [
              "array([[  0,   0,   0,   0,   0,   0,   0,   0,   0,  35],\n",
              "       [  0,   0,   0,   0,   0,   0,   0,   0,  35, 412],\n",
              "       [  0,   0,   0,   0,   0,   0,   0,  35, 412, 874],\n",
              "       [  0,   0,   0,   0,   0,   0,  35, 412, 874, 162],\n",
              "       [  0,   0,   0,   0,   0,  35, 412, 874, 162, 213],\n",
              "       [  0,   0,   0,   0,   0,   0,   0,   0,   0,   8],\n",
              "       [  0,   0,   0,   0,   0,   0,   0,   0,   8, 875]], dtype=int32)"
            ]
          },
          "metadata": {
            "tags": []
          },
          "execution_count": 28
        }
      ]
    },
    {
      "cell_type": "code",
      "metadata": {
        "id": "PakYuuxZ-ZhE",
        "outputId": "17180c51-22a6-40b7-fbc2-96ce7f84ba94",
        "colab": {
          "base_uri": "https://localhost:8080/",
          "height": 34
        }
      },
      "source": [
        "ys[0]"
      ],
      "execution_count": 29,
      "outputs": [
        {
          "output_type": "execute_result",
          "data": {
            "text/plain": [
              "array([0., 0., 0., ..., 0., 0., 0.], dtype=float32)"
            ]
          },
          "metadata": {
            "tags": []
          },
          "execution_count": 29
        }
      ]
    },
    {
      "cell_type": "code",
      "metadata": {
        "id": "WTqGGmsS-c8F",
        "outputId": "d540a3bb-4f62-4dde-85fa-7c3a421809dd",
        "colab": {
          "base_uri": "https://localhost:8080/",
          "height": 252
        }
      },
      "source": [
        "model = tf.keras.Sequential([\n",
        "                             tf.keras.layers.Embedding(total_words, 64, input_length=max_sequence_length-1),\n",
        "                             tf.keras.layers.Bidirectional(tf.keras.layers.LSTM(64)),\n",
        "                             tf.keras.layers.Dense(total_words, activation=\"softmax\")\n",
        "])\n",
        "\n",
        "model.summary()\n",
        "model.compile(loss=\"categorical_crossentropy\", optimizer=\"adam\", metrics=[\"accuracy\"])"
      ],
      "execution_count": 33,
      "outputs": [
        {
          "output_type": "stream",
          "text": [
            "Model: \"sequential_1\"\n",
            "_________________________________________________________________\n",
            "Layer (type)                 Output Shape              Param #   \n",
            "=================================================================\n",
            "embedding_1 (Embedding)      (None, 10, 64)            204672    \n",
            "_________________________________________________________________\n",
            "bidirectional_1 (Bidirection (None, 128)               66048     \n",
            "_________________________________________________________________\n",
            "dense_1 (Dense)              (None, 3198)              412542    \n",
            "=================================================================\n",
            "Total params: 683,262\n",
            "Trainable params: 683,262\n",
            "Non-trainable params: 0\n",
            "_________________________________________________________________\n"
          ],
          "name": "stdout"
        }
      ]
    },
    {
      "cell_type": "code",
      "metadata": {
        "id": "SCmBI15t-gP-"
      },
      "source": [
        "history = model.fit(xs, ys, epochs=50)"
      ],
      "execution_count": null,
      "outputs": []
    },
    {
      "cell_type": "code",
      "metadata": {
        "id": "G0cKebw6_lRS",
        "outputId": "50c27179-b368-4452-f4a0-8ac42f3cefff",
        "colab": {
          "base_uri": "https://localhost:8080/",
          "height": 541
        }
      },
      "source": [
        "import matplotlib.pyplot as plt\n",
        "\n",
        "def plot_graphs(history, string):\n",
        "    plt.plot(history.history[string])\n",
        "    plt.xlabel(\"epochs\")\n",
        "    plt.ylabel(string)\n",
        "    plt.show()\n",
        "\n",
        "plot_graphs(history, \"accuracy\")\n",
        "plot_graphs(history, \"loss\")"
      ],
      "execution_count": 36,
      "outputs": [
        {
          "output_type": "display_data",
          "data": {
            "image/png": "[encoded data removed]",
            "text/plain": [
              "<Figure size 432x288 with 1 Axes>"
            ]
          },
          "metadata": {
            "tags": [],
            "needs_background": "light"
          }
        },
        {
          "output_type": "display_data",
          "data": {
            "image/png": "[encoded data removed]",
            "text/plain": [
              "<Figure size 432x288 with 1 Axes>"
            ]
          },
          "metadata": {
            "tags": [],
            "needs_background": "light"
          }
        }
      ]
    },
    {
      "cell_type": "code",
      "metadata": {
        "id": "Pj9bUqHF_Odl"
      },
      "source": [
        "def generate_shakespeare_text(my_string):\n",
        "    next_word = 88\n",
        "    my_sequence = tokenizer.texts_to_sequences([my_string])\n",
        "    reverse_word_index = dict([(value,key) for (key,value) in word_index.items()])\n",
        "\n",
        "    for _ in range(next_word):\n",
        "        token_list = tokenizer.texts_to_sequences([my_string])[0]\n",
        "        token_list = pad_sequences([token_list], maxlen=max_sequence_length, padding=\"pre\")\n",
        "        predicted = model.predict_classes(token_list, verbose=0)\n",
        "        output_word = reverse_word_index[int(predicted)]\n",
        "        my_string += \" \" + output_word\n",
        "    sonnet=[]\n",
        "    # individual words from the string\n",
        "    sonnet_string = [x for x in my_string.split(\" \")]\n",
        "    for i in range(1,6):\n",
        "        sonnet.append(\" \".join(s for s in sonnet_string[(i-1)*11:i*11]))\n",
        "    return sonnet"
      ],
      "execution_count": 67,
      "outputs": []
    },
    {
      "cell_type": "code",
      "metadata": {
        "id": "8A-bXAg6_rl7",
        "outputId": "19c3ad5b-a3b6-4bf4-f14b-35f6e11214af",
        "colab": {
          "base_uri": "https://localhost:8080/",
          "height": 420
        }
      },
      "source": [
        "strings = [\"I love thee with all my heart\", \"Forsooth this maketh no sense\",\n",
        "           \"Shall I compare thee to a summers day\",\"Farewell thou art too deare\"]\n",
        "sonnets = [generate_shakespeare_text(s) for s in strings]\n",
        "for sonnet in sonnets:\n",
        "    for line in sonnet:\n",
        "        print(line)\n",
        "    print(\"-------------------------\")"
      ],
      "execution_count": 73,
      "outputs": [
        {
          "output_type": "stream",
          "text": [
            "I love thee with all my heart i find then you\n",
            "' made lies man live strangely near general of surmise state\n",
            "doth kind ' praise apple are bright laid winter man deeds\n",
            "bewailed stores to her friend ' ' old now now prove\n",
            "none' dote gone ere thee benefit hide my sight to lie\n",
            "-------------------------\n",
            "Forsooth this maketh no sense of his society affords rehearse shine\n",
            "bright peep man man more benefit living pain new awake bright\n",
            "lies i chide thee be dead as time wherein her stars\n",
            "in thee behold are near hence kill me new lameness and\n",
            "i can mend them me be foes denote is away her\n",
            "-------------------------\n",
            "Shall I compare thee to a summers day to show decay\n",
            "light now lie still thought doth thought it now you as\n",
            "pitying me as i bold old truth shall know be thine\n",
            "of true friend thrice and less truth and thee doth see\n",
            "approve of good date still weeds bright red new fired lie\n",
            "-------------------------\n",
            "Farewell thou art too deare dear for my possessing name no\n",
            "account mixed debarred the shore of lost her cold pride or\n",
            "still things groan on earth and thee doth grow or thee\n",
            "grace thee than i abide thought one one twain now to\n",
            "come of thee behold swearing still each friend and argument thee\n",
            "-------------------------\n"
          ],
          "name": "stdout"
        }
      ]
    },
    {
      "cell_type": "markdown",
      "metadata": {
        "id": "Y6PpMIokVn_W"
      },
      "source": [
        "As you can see the model performs fairly well, if the model is trained for 100 epochs I think it will probably reach 90% accuracy. "
      ]
    }
  ]
}