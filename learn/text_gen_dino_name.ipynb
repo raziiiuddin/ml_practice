{
  "nbformat": 4,
  "nbformat_minor": 0,
  "metadata": {
    "colab": {
      "name": "text_gen_dino_name.ipynb",
      "provenance": []
    },
    "kernelspec": {
      "name": "python3",
      "display_name": "Python 3"
    }
  },
  "cells": [
    {
      "cell_type": "markdown",
      "metadata": {
        "id": "AQREODcf34BQ"
      },
      "source": [
        "##Dinosaur name generation\n",
        "Generating dinosaur names using Natural Language Processing seems like a fun task. Inorder to do this we will use lots of dinosaur names avaliable in a dino.txt.\n",
        "\n",
        "Then we will perform character level encoding, which is similar to word encoding but we use characters because here we are generating one name not a sentence. So character level encoding should do the job. We will create sequences out of the names and split them into x and y and train out model.\n",
        "\n",
        "Later we look at the results and see how our model performs by predicting names starting with each alphabet."
      ]
    },
    {
      "cell_type": "code",
      "metadata": {
        "id": "W3WPDkD5lj8r",
        "outputId": "da40c8d8-2cfc-4345-da57-ae280288edb0",
        "colab": {
          "base_uri": "https://localhost:8080/",
          "height": 202
        }
      },
      "source": [
        "!wget --no-check-certificate \\\n",
        "    https://raw.githubusercontent.com/raziiiuddin/ml_practice/master/learn/text_gen_dino.txt \\\n",
        "    -O /tmp/dino.txt"
      ],
      "execution_count": 72,
      "outputs": [
        {
          "output_type": "stream",
          "text": [
            "--2020-10-03 14:35:24--  https://raw.githubusercontent.com/raziiiuddin/ml_practice/master/learn/text_gen_dino.txt\n",
            "Resolving raw.githubusercontent.com (raw.githubusercontent.com)... 151.101.0.133, 151.101.64.133, 151.101.128.133, ...\n",
            "Connecting to raw.githubusercontent.com (raw.githubusercontent.com)|151.101.0.133|:443... connected.\n",
            "HTTP request sent, awaiting response... 200 OK\n",
            "Length: 21444 (21K) [text/plain]\n",
            "Saving to: ‘/tmp/dino.txt’\n",
            "\n",
            "\r/tmp/dino.txt         0%[                    ]       0  --.-KB/s               \r/tmp/dino.txt       100%[===================>]  20.94K  --.-KB/s    in 0.01s   \n",
            "\n",
            "2020-10-03 14:35:24 (1.64 MB/s) - ‘/tmp/dino.txt’ saved [21444/21444]\n",
            "\n"
          ],
          "name": "stdout"
        }
      ]
    },
    {
      "cell_type": "code",
      "metadata": {
        "id": "SHEDoeFcmVpJ"
      },
      "source": [
        "data = []\n",
        "with open('/tmp/dino.txt','r') as text_file:\n",
        "    data = text_file.read()"
      ],
      "execution_count": 1,
      "outputs": []
    },
    {
      "cell_type": "code",
      "metadata": {
        "id": "uVOkVtKonDY7"
      },
      "source": [
        "names = data.lower().split('\\n')"
      ],
      "execution_count": 2,
      "outputs": []
    },
    {
      "cell_type": "code",
      "metadata": {
        "id": "4ucLefN8nx_S",
        "outputId": "42c74310-b26a-42fd-c049-546b70970d31",
        "colab": {
          "base_uri": "https://localhost:8080/",
          "height": 134
        }
      },
      "source": [
        "names[:7]"
      ],
      "execution_count": 3,
      "outputs": [
        {
          "output_type": "execute_result",
          "data": {
            "text/plain": [
              "['aachenosaurus',\n",
              " 'aardonyx',\n",
              " 'abdallahsaurus',\n",
              " 'abelisaurus',\n",
              " 'abrictosaurus',\n",
              " 'abrosaurus',\n",
              " 'abydosaurus']"
            ]
          },
          "metadata": {
            "tags": []
          },
          "execution_count": 3
        }
      ]
    },
    {
      "cell_type": "code",
      "metadata": {
        "id": "Oe3mrwutpmpE"
      },
      "source": [
        "names_list = []\n",
        "for name in names:\n",
        "    letter_list = []\n",
        "    for i in range(0,len(name)):\n",
        "        letter_list.append(name[i])\n",
        "    # Append with \\n to indicate end of the name\n",
        "    letter_list.append('\\n')\n",
        "    names_list.append(letter_list)\n"
      ],
      "execution_count": 4,
      "outputs": []
    },
    {
      "cell_type": "code",
      "metadata": {
        "id": "lvuLVyy3qI1p",
        "outputId": "d21096fe-d66b-4029-aaa5-19d1afaf8d20",
        "colab": {
          "base_uri": "https://localhost:8080/",
          "height": 134
        }
      },
      "source": [
        "names_list[:7]"
      ],
      "execution_count": 5,
      "outputs": [
        {
          "output_type": "execute_result",
          "data": {
            "text/plain": [
              "[['a', 'a', 'c', 'h', 'e', 'n', 'o', 's', 'a', 'u', 'r', 'u', 's', '\\n'],\n",
              " ['a', 'a', 'r', 'd', 'o', 'n', 'y', 'x', '\\n'],\n",
              " ['a', 'b', 'd', 'a', 'l', 'l', 'a', 'h', 's', 'a', 'u', 'r', 'u', 's', '\\n'],\n",
              " ['a', 'b', 'e', 'l', 'i', 's', 'a', 'u', 'r', 'u', 's', '\\n'],\n",
              " ['a', 'b', 'r', 'i', 'c', 't', 'o', 's', 'a', 'u', 'r', 'u', 's', '\\n'],\n",
              " ['a', 'b', 'r', 'o', 's', 'a', 'u', 'r', 'u', 's', '\\n'],\n",
              " ['a', 'b', 'y', 'd', 'o', 's', 'a', 'u', 'r', 'u', 's', '\\n']]"
            ]
          },
          "metadata": {
            "tags": []
          },
          "execution_count": 5
        }
      ]
    },
    {
      "cell_type": "code",
      "metadata": {
        "id": "iVrUca_io0dE",
        "outputId": "fefb8543-1327-460f-ae30-258692575d0c",
        "colab": {
          "base_uri": "https://localhost:8080/",
          "height": 70
        }
      },
      "source": [
        "import tensorflow as tf\n",
        "import numpy as np\n",
        "import matplotlib.pyplot as plt\n",
        "from tensorflow.keras.preprocessing.text import Tokenizer\n",
        "from tensorflow.keras.preprocessing.sequence import pad_sequences\n",
        "\n",
        "tokenizer = Tokenizer()\n",
        "tokenizer.fit_on_texts(names_list)\n",
        "word_index = tokenizer.word_index\n",
        "total_words = len(word_index) + 1\n",
        "\n",
        "print(word_index)\n",
        "print(total_words)"
      ],
      "execution_count": 9,
      "outputs": [
        {
          "output_type": "stream",
          "text": [
            "{'a': 1, 's': 2, 'u': 3, 'o': 4, 'r': 5, '\\n': 6, 'n': 7, 'i': 8, 'e': 9, 't': 10, 'l': 11, 'p': 12, 'h': 13, 'c': 14, 'g': 15, 'd': 16, 'm': 17, 'y': 18, 'b': 19, 'k': 20, 'v': 21, 'x': 22, 'z': 23, 'j': 24, 'w': 25, 'f': 26, 'q': 27}\n",
            "28\n"
          ],
          "name": "stdout"
        }
      ]
    },
    {
      "cell_type": "code",
      "metadata": {
        "id": "VMXiVk7sq3td"
      },
      "source": [
        "sequences = []\n",
        "for name in names_list:\n",
        "    tokenized_name = tokenizer.texts_to_sequences([name])[0]\n",
        "    for i in range(1, len(tokenized_name)):\n",
        "        n_gram_sequence = tokenized_name[:i+1]\n",
        "        sequences.append(n_gram_sequence)\n",
        "\n",
        "max_sequence_length = max([len(x) for x in names_list])"
      ],
      "execution_count": 10,
      "outputs": []
    },
    {
      "cell_type": "code",
      "metadata": {
        "id": "cWafhWmBq5sK",
        "outputId": "7b76396c-1021-48c0-d114-013435ed8dcd",
        "colab": {
          "base_uri": "https://localhost:8080/",
          "height": 134
        }
      },
      "source": [
        "sequences[:7]"
      ],
      "execution_count": 11,
      "outputs": [
        {
          "output_type": "execute_result",
          "data": {
            "text/plain": [
              "[[1, 1],\n",
              " [1, 1, 14],\n",
              " [1, 1, 14, 13],\n",
              " [1, 1, 14, 13, 9],\n",
              " [1, 1, 14, 13, 9, 7],\n",
              " [1, 1, 14, 13, 9, 7, 4],\n",
              " [1, 1, 14, 13, 9, 7, 4, 2]]"
            ]
          },
          "metadata": {
            "tags": []
          },
          "execution_count": 11
        }
      ]
    },
    {
      "cell_type": "code",
      "metadata": {
        "id": "z2GxTToSrm4o"
      },
      "source": [
        "padded = pad_sequences(sequences, maxlen=max_sequence_length,padding=\"pre\")"
      ],
      "execution_count": 12,
      "outputs": []
    },
    {
      "cell_type": "code",
      "metadata": {
        "id": "bNUXTC2nsWWH",
        "outputId": "06770895-ff2b-42ec-ef64-2919c3bd5166",
        "colab": {
          "base_uri": "https://localhost:8080/",
          "height": 252
        }
      },
      "source": [
        "padded[:7]"
      ],
      "execution_count": 13,
      "outputs": [
        {
          "output_type": "execute_result",
          "data": {
            "text/plain": [
              "array([[ 0,  0,  0,  0,  0,  0,  0,  0,  0,  0,  0,  0,  0,  0,  0,  0,\n",
              "         0,  0,  0,  0,  0,  0,  0,  0,  0,  1,  1],\n",
              "       [ 0,  0,  0,  0,  0,  0,  0,  0,  0,  0,  0,  0,  0,  0,  0,  0,\n",
              "         0,  0,  0,  0,  0,  0,  0,  0,  1,  1, 14],\n",
              "       [ 0,  0,  0,  0,  0,  0,  0,  0,  0,  0,  0,  0,  0,  0,  0,  0,\n",
              "         0,  0,  0,  0,  0,  0,  0,  1,  1, 14, 13],\n",
              "       [ 0,  0,  0,  0,  0,  0,  0,  0,  0,  0,  0,  0,  0,  0,  0,  0,\n",
              "         0,  0,  0,  0,  0,  0,  1,  1, 14, 13,  9],\n",
              "       [ 0,  0,  0,  0,  0,  0,  0,  0,  0,  0,  0,  0,  0,  0,  0,  0,\n",
              "         0,  0,  0,  0,  0,  1,  1, 14, 13,  9,  7],\n",
              "       [ 0,  0,  0,  0,  0,  0,  0,  0,  0,  0,  0,  0,  0,  0,  0,  0,\n",
              "         0,  0,  0,  0,  1,  1, 14, 13,  9,  7,  4],\n",
              "       [ 0,  0,  0,  0,  0,  0,  0,  0,  0,  0,  0,  0,  0,  0,  0,  0,\n",
              "         0,  0,  0,  1,  1, 14, 13,  9,  7,  4,  2]], dtype=int32)"
            ]
          },
          "metadata": {
            "tags": []
          },
          "execution_count": 13
        }
      ]
    },
    {
      "cell_type": "code",
      "metadata": {
        "id": "ewEYJnfKsdtI"
      },
      "source": [
        "xs, labels = padded[:,:-1], padded[:,-1]\n",
        "ys = tf.keras.utils.to_categorical(labels, num_classes=total_words)"
      ],
      "execution_count": 14,
      "outputs": []
    },
    {
      "cell_type": "code",
      "metadata": {
        "id": "5_YlRSy1ssaQ",
        "outputId": "d9152bdb-fe16-4f15-80ce-b7e792f53e73",
        "colab": {
          "base_uri": "https://localhost:8080/",
          "height": 67
        }
      },
      "source": [
        "print(xs[0])\n",
        "print(ys[0])"
      ],
      "execution_count": 15,
      "outputs": [
        {
          "output_type": "stream",
          "text": [
            "[0 0 0 0 0 0 0 0 0 0 0 0 0 0 0 0 0 0 0 0 0 0 0 0 0 1]\n",
            "[0. 1. 0. 0. 0. 0. 0. 0. 0. 0. 0. 0. 0. 0. 0. 0. 0. 0. 0. 0. 0. 0. 0. 0.\n",
            " 0. 0. 0. 0.]\n"
          ],
          "name": "stdout"
        }
      ]
    },
    {
      "cell_type": "code",
      "metadata": {
        "id": "xW2L6gR0tHDp",
        "outputId": "79a45476-89f4-433d-ecb6-f35886230d11",
        "colab": {
          "base_uri": "https://localhost:8080/",
          "height": 252
        }
      },
      "source": [
        "model = tf.keras.Sequential([\n",
        "                             tf.keras.layers.Embedding(total_words, 64, input_length=max_sequence_length-1),# -1 because we separated x and y\n",
        "                             tf.keras.layers.Bidirectional(tf.keras.layers.LSTM(32)),\n",
        "                             tf.keras.layers.Dense(total_words, activation=\"softmax\")\n",
        "])\n",
        "model.summary()\n",
        "model.compile(loss=\"categorical_crossentropy\", optimizer=\"adam\", metrics=[\"accuracy\"])"
      ],
      "execution_count": 16,
      "outputs": [
        {
          "output_type": "stream",
          "text": [
            "Model: \"sequential\"\n",
            "_________________________________________________________________\n",
            "Layer (type)                 Output Shape              Param #   \n",
            "=================================================================\n",
            "embedding (Embedding)        (None, 26, 64)            1792      \n",
            "_________________________________________________________________\n",
            "bidirectional (Bidirectional (None, 64)                24832     \n",
            "_________________________________________________________________\n",
            "dense (Dense)                (None, 28)                1820      \n",
            "=================================================================\n",
            "Total params: 28,444\n",
            "Trainable params: 28,444\n",
            "Non-trainable params: 0\n",
            "_________________________________________________________________\n"
          ],
          "name": "stdout"
        }
      ]
    },
    {
      "cell_type": "code",
      "metadata": {
        "id": "umf8pfMhtQ9a",
        "outputId": "8c12d692-21a6-407b-fb6f-7adaf167b74a",
        "colab": {
          "base_uri": "https://localhost:8080/",
          "height": 1000
        }
      },
      "source": [
        "history = model.fit(xs,ys,epochs=50)"
      ],
      "execution_count": 17,
      "outputs": [
        {
          "output_type": "stream",
          "text": [
            "Epoch 1/50\n",
            "575/575 [==============================] - 10s 17ms/step - loss: 2.3420 - accuracy: 0.3096\n",
            "Epoch 2/50\n",
            "575/575 [==============================] - 10s 17ms/step - loss: 1.8727 - accuracy: 0.4411\n",
            "Epoch 3/50\n",
            "575/575 [==============================] - 10s 17ms/step - loss: 1.7733 - accuracy: 0.4635\n",
            "Epoch 4/50\n",
            "575/575 [==============================] - 10s 18ms/step - loss: 1.7221 - accuracy: 0.4752\n",
            "Epoch 5/50\n",
            "575/575 [==============================] - 10s 17ms/step - loss: 1.6863 - accuracy: 0.4894\n",
            "Epoch 6/50\n",
            "575/575 [==============================] - 10s 18ms/step - loss: 1.6547 - accuracy: 0.5010\n",
            "Epoch 7/50\n",
            "575/575 [==============================] - 10s 17ms/step - loss: 1.6263 - accuracy: 0.5116\n",
            "Epoch 8/50\n",
            "575/575 [==============================] - 10s 18ms/step - loss: 1.6030 - accuracy: 0.5179\n",
            "Epoch 9/50\n",
            "575/575 [==============================] - 10s 18ms/step - loss: 1.5806 - accuracy: 0.5260\n",
            "Epoch 10/50\n",
            "575/575 [==============================] - 10s 18ms/step - loss: 1.5630 - accuracy: 0.5297\n",
            "Epoch 11/50\n",
            "575/575 [==============================] - 10s 18ms/step - loss: 1.5461 - accuracy: 0.5332\n",
            "Epoch 12/50\n",
            "575/575 [==============================] - 10s 18ms/step - loss: 1.5320 - accuracy: 0.5379\n",
            "Epoch 13/50\n",
            "575/575 [==============================] - 10s 17ms/step - loss: 1.5187 - accuracy: 0.5432\n",
            "Epoch 14/50\n",
            "575/575 [==============================] - 10s 17ms/step - loss: 1.5054 - accuracy: 0.5472\n",
            "Epoch 15/50\n",
            "575/575 [==============================] - 10s 17ms/step - loss: 1.4925 - accuracy: 0.5509\n",
            "Epoch 16/50\n",
            "575/575 [==============================] - 10s 18ms/step - loss: 1.4819 - accuracy: 0.5555\n",
            "Epoch 17/50\n",
            "575/575 [==============================] - 10s 18ms/step - loss: 1.4712 - accuracy: 0.5577\n",
            "Epoch 18/50\n",
            "575/575 [==============================] - 10s 17ms/step - loss: 1.4600 - accuracy: 0.5626\n",
            "Epoch 19/50\n",
            "575/575 [==============================] - 10s 18ms/step - loss: 1.4504 - accuracy: 0.5636\n",
            "Epoch 20/50\n",
            "575/575 [==============================] - 10s 18ms/step - loss: 1.4402 - accuracy: 0.5687\n",
            "Epoch 21/50\n",
            "575/575 [==============================] - 10s 17ms/step - loss: 1.4313 - accuracy: 0.5690\n",
            "Epoch 22/50\n",
            "575/575 [==============================] - 10s 18ms/step - loss: 1.4223 - accuracy: 0.5735\n",
            "Epoch 23/50\n",
            "575/575 [==============================] - 10s 17ms/step - loss: 1.4126 - accuracy: 0.5766\n",
            "Epoch 24/50\n",
            "575/575 [==============================] - 10s 18ms/step - loss: 1.4044 - accuracy: 0.5805\n",
            "Epoch 25/50\n",
            "575/575 [==============================] - 10s 18ms/step - loss: 1.3955 - accuracy: 0.5802\n",
            "Epoch 26/50\n",
            "575/575 [==============================] - 10s 18ms/step - loss: 1.3871 - accuracy: 0.5847\n",
            "Epoch 27/50\n",
            "575/575 [==============================] - 10s 18ms/step - loss: 1.3795 - accuracy: 0.5864\n",
            "Epoch 28/50\n",
            "575/575 [==============================] - 10s 17ms/step - loss: 1.3724 - accuracy: 0.5886\n",
            "Epoch 29/50\n",
            "575/575 [==============================] - 10s 18ms/step - loss: 1.3634 - accuracy: 0.5911\n",
            "Epoch 30/50\n",
            "575/575 [==============================] - 10s 18ms/step - loss: 1.3555 - accuracy: 0.5946\n",
            "Epoch 31/50\n",
            "575/575 [==============================] - 10s 17ms/step - loss: 1.3484 - accuracy: 0.5944\n",
            "Epoch 32/50\n",
            "575/575 [==============================] - 10s 17ms/step - loss: 1.3415 - accuracy: 0.5970\n",
            "Epoch 33/50\n",
            "575/575 [==============================] - 10s 18ms/step - loss: 1.3344 - accuracy: 0.6013\n",
            "Epoch 34/50\n",
            "575/575 [==============================] - 10s 18ms/step - loss: 1.3266 - accuracy: 0.6007\n",
            "Epoch 35/50\n",
            "575/575 [==============================] - 10s 17ms/step - loss: 1.3187 - accuracy: 0.6036\n",
            "Epoch 36/50\n",
            "575/575 [==============================] - 10s 18ms/step - loss: 1.3122 - accuracy: 0.6055\n",
            "Epoch 37/50\n",
            "575/575 [==============================] - 10s 17ms/step - loss: 1.3061 - accuracy: 0.6065\n",
            "Epoch 38/50\n",
            "575/575 [==============================] - 10s 17ms/step - loss: 1.2976 - accuracy: 0.6084\n",
            "Epoch 39/50\n",
            "575/575 [==============================] - 10s 17ms/step - loss: 1.2912 - accuracy: 0.6100\n",
            "Epoch 40/50\n",
            "575/575 [==============================] - 10s 17ms/step - loss: 1.2854 - accuracy: 0.6122\n",
            "Epoch 41/50\n",
            "575/575 [==============================] - 10s 17ms/step - loss: 1.2781 - accuracy: 0.6142\n",
            "Epoch 42/50\n",
            "575/575 [==============================] - 10s 17ms/step - loss: 1.2725 - accuracy: 0.6171\n",
            "Epoch 43/50\n",
            "575/575 [==============================] - 10s 17ms/step - loss: 1.2662 - accuracy: 0.6149\n",
            "Epoch 44/50\n",
            "575/575 [==============================] - 10s 17ms/step - loss: 1.2587 - accuracy: 0.6190\n",
            "Epoch 45/50\n",
            "575/575 [==============================] - 10s 17ms/step - loss: 1.2507 - accuracy: 0.6206\n",
            "Epoch 46/50\n",
            "575/575 [==============================] - 10s 17ms/step - loss: 1.2446 - accuracy: 0.6202\n",
            "Epoch 47/50\n",
            "575/575 [==============================] - 10s 17ms/step - loss: 1.2386 - accuracy: 0.6228\n",
            "Epoch 48/50\n",
            "575/575 [==============================] - 10s 17ms/step - loss: 1.2319 - accuracy: 0.6234\n",
            "Epoch 49/50\n",
            "575/575 [==============================] - 10s 17ms/step - loss: 1.2271 - accuracy: 0.6272\n",
            "Epoch 50/50\n",
            "575/575 [==============================] - 10s 17ms/step - loss: 1.2234 - accuracy: 0.6272\n"
          ],
          "name": "stdout"
        }
      ]
    },
    {
      "cell_type": "code",
      "metadata": {
        "id": "MK1vnXXBtV6S",
        "outputId": "55d4eb5d-5157-4ea5-b1dd-785c66a83f64",
        "colab": {
          "base_uri": "https://localhost:8080/",
          "height": 541
        }
      },
      "source": [
        "def plot_graphs(history, string):\n",
        "    plt.plot(history.history[string])\n",
        "    plt.xlabel(\"epochs\")\n",
        "    plt.ylabel(string)\n",
        "    plt.show()\n",
        "\n",
        "plot_graphs(history, \"accuracy\")\n",
        "plot_graphs(history, \"loss\")"
      ],
      "execution_count": 18,
      "outputs": [
        {
          "output_type": "display_data",
          "data": {
            "image/png": "[encoded data removed]",
            "text/plain": [
              "<Figure size 432x288 with 1 Axes>"
            ]
          },
          "metadata": {
            "tags": [],
            "needs_background": "light"
          }
        },
        {
          "output_type": "display_data",
          "data": {
            "image/png": "[encoded data removed]",
            "text/plain": [
              "<Figure size 432x288 with 1 Axes>"
            ]
          },
          "metadata": {
            "tags": [],
            "needs_background": "light"
          }
        }
      ]
    },
    {
      "cell_type": "code",
      "metadata": {
        "id": "8qwdXXQvvPn7"
      },
      "source": [
        "def generate_dino_name(dino_name):\n",
        "    for _ in range(next_word):\n",
        "        token_list = tokenizer.texts_to_sequences([dino_name])[0]\n",
        "        token_list = pad_sequences([token_list], maxlen=max_sequence_length, padding=\"pre\")\n",
        "        predicted = model.predict_classes(token_list, verbose=0)\n",
        "        output_letter=\"\"\n",
        "        for word, index in tokenizer.word_index.items():\n",
        "            if index == predicted:\n",
        "                output_letter = word\n",
        "                break\n",
        "        if output_letter == \"\\n\":\n",
        "            break\n",
        "        dino_name += \" \" + output_letter\n",
        "    return dino_name.replace(\" \",\"\")"
      ],
      "execution_count": 69,
      "outputs": []
    },
    {
      "cell_type": "code",
      "metadata": {
        "id": "bqY9BEWPvqTM"
      },
      "source": [
        "\n",
        "alphabets = ['a', 'b', 'c', 'd', 'e', 'f', 'g', 'h', 'i', 'j', 'k', 'l', 'm', 'n', 'o', 'p', 'q', 'r', 's', 't', 'u', 'v', 'w', 'x', 'y', 'z']\n",
        "dino_output_list = []\n",
        "for alphabet in alphabets:\n",
        "    generated = generate_dino_name(alphabet)\n",
        "    #generated = generate_dino_name(alphabet+\" e\")\n",
        "    dino_output_list.append(generated)"
      ],
      "execution_count": 70,
      "outputs": []
    },
    {
      "cell_type": "code",
      "metadata": {
        "id": "yok8HWlU0_wi",
        "outputId": "14a9ff09-c3c7-426c-9888-12db81f8aac6",
        "colab": {
          "base_uri": "https://localhost:8080/",
          "height": 454
        }
      },
      "source": [
        "dino_output_list"
      ],
      "execution_count": 71,
      "outputs": [
        {
          "output_type": "execute_result",
          "data": {
            "text/plain": [
              "['altosaurus',\n",
              " 'barachylosaurus',\n",
              " 'changangosaurus',\n",
              " 'dalamosaurus',\n",
              " 'europosaurus',\n",
              " 'furutitan',\n",
              " 'ganganosaurus',\n",
              " 'hangangosaurus',\n",
              " 'igantosaurus',\n",
              " 'jiangshanosaurus',\n",
              " 'katanosaurus',\n",
              " 'langanosaurus',\n",
              " 'marchanosaurus',\n",
              " 'nangansaurus',\n",
              " 'ornithodon',\n",
              " 'palaeosaurus',\n",
              " 'qing',\n",
              " 'riobelosaurus',\n",
              " 'sinosaurus',\n",
              " 'tanasaurus',\n",
              " 'uanasaurus',\n",
              " 'velosaurus',\n",
              " 'walbertaptor',\n",
              " 'xiang',\n",
              " 'yurosaurus',\n",
              " 'zunangosaurus']"
            ]
          },
          "metadata": {
            "tags": []
          },
          "execution_count": 71
        }
      ]
    }
  ]
}